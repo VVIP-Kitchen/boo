{
 "cells": [
  {
   "cell_type": "markdown",
   "metadata": {},
   "source": [
    "### **Imports go here!**"
   ]
  },
  {
   "cell_type": "code",
   "execution_count": 59,
   "metadata": {},
   "outputs": [],
   "source": [
    "import os\n",
    "import json\n",
    "import numpy as np\n",
    "\n",
    "from fastembed import TextEmbedding\n",
    "from qdrant_client import QdrantClient\n",
    "from qdrant_client.models import PointStruct\n",
    "from qdrant_client.models import Distance, VectorParams"
   ]
  },
  {
   "cell_type": "markdown",
   "metadata": {},
   "source": [
    "### **Read the Grading Doc JSON**"
   ]
  },
  {
   "cell_type": "code",
   "execution_count": 7,
   "metadata": {},
   "outputs": [],
   "source": [
    "with open(f\"{os.path.join(os.getcwd(), 'rag', 'data', 'instruction_dataset.json')}\", \"r\", encoding = \"utf-8\") as file:\n",
    "  data = json.loads(file.read())"
   ]
  },
  {
   "cell_type": "code",
   "execution_count": 8,
   "metadata": {},
   "outputs": [
    {
     "data": {
      "text/plain": [
       "dict_keys(['instruction', 'context', 'response'])"
      ]
     },
     "execution_count": 8,
     "metadata": {},
     "output_type": "execute_result"
    }
   ],
   "source": [
    "data[0].keys()"
   ]
  },
  {
   "cell_type": "code",
   "execution_count": 15,
   "metadata": {},
   "outputs": [],
   "source": [
    "unprocessed_data = []\n",
    "\n",
    "for obj in data:\n",
    "  Q = f\"Context: {obj['context']}\\nQuestion: {obj['instruction']}\" if obj['context'] is not None else f\"Question: {obj['instruction']}\"\n",
    "  A = obj['response']\n",
    "\n",
    "  unprocessed_data.append({\n",
    "    \"Question\": Q,\n",
    "    \"Answer\": A\n",
    "  })"
   ]
  },
  {
   "cell_type": "markdown",
   "metadata": {},
   "source": [
    "### **Generate embeddings**"
   ]
  },
  {
   "cell_type": "code",
   "execution_count": 17,
   "metadata": {},
   "outputs": [
    {
     "name": "stderr",
     "output_type": "stream",
     "text": [
      "Fetching 5 files: 100%|██████████████████████████████████████████████████████████████████████████████████████████████████████████████████████████████████| 5/5 [00:04<00:00,  1.10it/s]\n"
     ]
    }
   ],
   "source": [
    "embedding_model = TextEmbedding()"
   ]
  },
  {
   "cell_type": "code",
   "execution_count": 48,
   "metadata": {},
   "outputs": [],
   "source": [
    "processed_data = []\n",
    "\n",
    "for ele in unprocessed_data:\n",
    "  processed_data.append({\n",
    "    \"Question\": list(embedding_model.embed(ele[\"Question\"]))[0],\n",
    "    \"Answer\": ele[\"Answer\"]\n",
    "  })"
   ]
  },
  {
   "cell_type": "markdown",
   "metadata": {},
   "source": [
    "### **Insert into Qdrant**"
   ]
  },
  {
   "cell_type": "code",
   "execution_count": 51,
   "metadata": {},
   "outputs": [],
   "source": [
    "QDRANT_PORT = os.getenv(\"QDRANT_PORT\", \"6333\")\n",
    "QDRANT_HOST = os.getenv(\"QDRANT_HOST\", \"localhost\")\n",
    "\n",
    "qdrant_url = f\"http://{QDRANT_HOST}:{QDRANT_PORT}\"\n",
    "client = QdrantClient(url=qdrant_url)"
   ]
  },
  {
   "cell_type": "markdown",
   "metadata": {},
   "source": [
    "### **Create qdrant collection**"
   ]
  },
  {
   "cell_type": "code",
   "execution_count": 57,
   "metadata": {},
   "outputs": [
    {
     "data": {
      "text/plain": [
       "True"
      ]
     },
     "execution_count": 57,
     "metadata": {},
     "output_type": "execute_result"
    }
   ],
   "source": [
    "QDRANT_COLLECTION = os.getenv(\"QDRANT_COLLECTION\", \"grading-doc-sep-2024\")\n",
    "\n",
    "client.create_collection(\n",
    "  collection_name=QDRANT_COLLECTION,\n",
    "  vectors_config=VectorParams(size=processed_data[0][\"Question\"].shape[0], distance=Distance.DOT),\n",
    ")"
   ]
  },
  {
   "cell_type": "markdown",
   "metadata": {},
   "source": [
    "### **Add vectors**"
   ]
  },
  {
   "cell_type": "code",
   "execution_count": 67,
   "metadata": {},
   "outputs": [
    {
     "name": "stdout",
     "output_type": "stream",
     "text": [
      "operation_id=0 status=<UpdateStatus.COMPLETED: 'completed'>\n"
     ]
    }
   ],
   "source": [
    "points = []\n",
    "for idx, ele in enumerate(processed_data):\n",
    "  pt = PointStruct(id = idx + 1, vector = ele[\"Question\"], payload = { \"Answer\": ele[\"Answer\"] })\n",
    "  points.append(pt)\n",
    "\n",
    "operation_info = client.upsert(\n",
    "  collection_name = QDRANT_COLLECTION,\n",
    "  wait = True,\n",
    "  points = points\n",
    ")\n",
    "\n",
    "print(operation_info)"
   ]
  }
 ],
 "metadata": {
  "kernelspec": {
   "display_name": "Python 3 (ipykernel)",
   "language": "python",
   "name": "python3"
  },
  "language_info": {
   "codemirror_mode": {
    "name": "ipython",
    "version": 3
   },
   "file_extension": ".py",
   "mimetype": "text/x-python",
   "name": "python",
   "nbconvert_exporter": "python",
   "pygments_lexer": "ipython3",
   "version": "3.10.14"
  }
 },
 "nbformat": 4,
 "nbformat_minor": 2
}
