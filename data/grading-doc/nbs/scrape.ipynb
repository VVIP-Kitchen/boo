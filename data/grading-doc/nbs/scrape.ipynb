{
 "cells": [
  {
   "cell_type": "markdown",
   "metadata": {},
   "source": [
    "### **Dump raw text of Grading Doc HTML into a plain text file**"
   ]
  },
  {
   "cell_type": "code",
   "execution_count": 2,
   "metadata": {},
   "outputs": [],
   "source": [
    "import requests\n",
    "from bs4 import BeautifulSoup"
   ]
  },
  {
   "cell_type": "code",
   "execution_count": 3,
   "metadata": {},
   "outputs": [],
   "source": [
    "grading_doc_url = \"https://docs.google.com/document/d/1e1l9ERBGYoS2jhKZHcTP6zZUH_NLzJv99xdcyi21Z1Y/pub\""
   ]
  },
  {
   "cell_type": "code",
   "execution_count": 7,
   "metadata": {},
   "outputs": [],
   "source": [
    "response = requests.get(grading_doc_url)\n",
    "\n",
    "if response.status_code == 200:\n",
    "  soup = BeautifulSoup(response.content, \"html.parser\")\n",
    "  text_lines = []\n",
    "  tags = [\"a\", \"p\", \"h1\", \"h2\", \"h3\", \"h4\"]\n",
    "\n",
    "  for para in soup.find_all(tags):\n",
    "    line = para.get_text().strip()\n",
    "    if line:\n",
    "      text_lines.append(line)\n",
    "  \n",
    "  formatted_text = \"\\n\".join(text_lines)\n",
    "\n",
    "  with open(\"../plaintexts/grading_doc-new.txt\", \"w\") as file:\n",
    "    file.write(formatted_text)\n",
    "else:\n",
    "  print(f\"Failed to fetch Grading Doc. Error code: {response.status_code}\")"
   ]
  }
 ],
 "metadata": {
  "kernelspec": {
   "display_name": "Python 3",
   "language": "python",
   "name": "python3"
  },
  "language_info": {
   "codemirror_mode": {
    "name": "ipython",
    "version": 3
   },
   "file_extension": ".py",
   "mimetype": "text/x-python",
   "name": "python",
   "nbconvert_exporter": "python",
   "pygments_lexer": "ipython3",
   "version": "3.10.14"
  }
 },
 "nbformat": 4,
 "nbformat_minor": 2
}
